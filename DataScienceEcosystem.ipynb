{
 "cells": [
  {
   "cell_type": "markdown",
   "id": "4ab1710b-b1f9-415a-90de-5439deaa1527",
   "metadata": {},
   "source": [
    "# Data Science Tools and Ecosystem"
   ]
  },
  {
   "cell_type": "markdown",
   "id": "0ce4de6c-ff19-46e9-984d-7f1379e7cc7f",
   "metadata": {},
   "source": [
    "In this notebook, data Science Tools and Ecosystem are summarized."
   ]
  },
  {
   "cell_type": "markdown",
   "id": "1bc57f84-cb42-4f16-aeee-455924f590c5",
   "metadata": {},
   "source": [
    "Some of the popular languages that Data Scientists use are:\n",
    "1. Python\n",
    "2. R\n",
    "3. Java\n",
    "4. Julia"
   ]
  },
  {
   "cell_type": "markdown",
   "id": "5a9806d1-523c-4c3b-a6f6-7cfdeea41ecb",
   "metadata": {},
   "source": [
    "Some of the commonly use libraries used by Data Scientists include:\n",
    "1. Pandas\n",
    "2. Numpy\n",
    "3. Scikit-learn\n",
    "4. Matplotlib"
   ]
  },
  {
   "cell_type": "markdown",
   "id": "ea2bee62-0606-4b3c-9a32-8e8c4be59c12",
   "metadata": {},
   "source": [
    "|Data Science Tools|\n",
    "|:----------------:|\n",
    "|VS Code           |\n",
    "|Jupyter Notebook  |\n",
    "|R Studio          |"
   ]
  },
  {
   "cell_type": "markdown",
   "id": "8d37012f-495a-4498-b5d9-9567bca18365",
   "metadata": {},
   "source": [
    "### Below are a few examples of evaluating arthmetic expressions in python"
   ]
  },
  {
   "cell_type": "code",
   "execution_count": 2,
   "id": "c10a37ad-0d6a-4a47-80eb-f9b4337524d0",
   "metadata": {},
   "outputs": [
    {
     "data": {
      "text/plain": [
       "17"
      ]
     },
     "execution_count": 2,
     "metadata": {},
     "output_type": "execute_result"
    }
   ],
   "source": [
    "(3 * 4 ) + 5 #This is a simple arthematic expression to multiply then add integers"
   ]
  },
  {
   "cell_type": "code",
   "execution_count": 3,
   "id": "e04df8cb-74fa-40a2-8ea0-f29341cb2e03",
   "metadata": {},
   "outputs": [
    {
     "data": {
      "text/plain": [
       "3.3333333333333335"
      ]
     },
     "execution_count": 3,
     "metadata": {},
     "output_type": "execute_result"
    }
   ],
   "source": [
    "#This will conver 200 minutes to hours by dividing by 60\n",
    "converted_time = 200/60\n",
    "converted_time"
   ]
  },
  {
   "cell_type": "markdown",
   "id": "2a62ac0d-1aa4-4dc7-a5aa-c65f51b9c16f",
   "metadata": {},
   "source": [
    "**Objectives:**\n",
    "* In this Course I learned Tools of Datascience\n",
    "* I learned Libraries used by Data Scientists\n",
    "* I learned Popular Languages like Python, R"
   ]
  },
  {
   "cell_type": "markdown",
   "id": "2e638e79-0566-4c65-86ba-d5b1a6697c7c",
   "metadata": {},
   "source": [
    "## Author\n",
    "Nutukurthi mani Prem Gowtham"
   ]
  }
 ],
 "metadata": {
  "kernelspec": {
   "display_name": "Python 3 (ipykernel)",
   "language": "python",
   "name": "python3"
  },
  "language_info": {
   "codemirror_mode": {
    "name": "ipython",
    "version": 3
   },
   "file_extension": ".py",
   "mimetype": "text/x-python",
   "name": "python",
   "nbconvert_exporter": "python",
   "pygments_lexer": "ipython3",
   "version": "3.12.2"
  }
 },
 "nbformat": 4,
 "nbformat_minor": 5
}
